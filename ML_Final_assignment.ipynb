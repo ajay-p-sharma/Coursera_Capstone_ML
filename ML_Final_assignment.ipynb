{
 "cells": [
  {
   "cell_type": "markdown",
   "metadata": {},
   "source": [
    "## Introduction\n",
    "\n",
    "In this assignment we will try to find the neighborhood that are very similar to Brooklyn neighborhood of New York. Brooklyn is known for its cultural, linguistic and ethnic diversity. Brooklyn has many tourist attractions like Museums, breweries, parks, historic sites and events (Dyker Heights Christmas Lights, Mermaid Parade, Color Runs, Hotdog eating competition, Labor day Carnival to name a few). And it also offers numerous ethnic cuisines to people living and exploring Brooklyn all year long.\n",
    "I have lived in Brooklyn for over 6 years and I always loved the place. And now that I have moved to Canada, I would like to find places in Toronto that offer similar experience at least in terms of food. In this assignment, we would like to\n",
    "    \n",
    "    \n",
    "    1. Find neighborhoods in toronto area are closest match to Brooklyn neighborhood of New york.\n",
    "    2. Find the top resturants for at least 5 different cuisines in the toronto area in terms of foot traffic and\n",
    "    ratings if possible."
   ]
  },
  {
   "cell_type": "markdown",
   "metadata": {},
   "source": [
    "## Target Audience\n",
    "This is going to be a personal project and the target audience for this project is mostly me and my friends. But, anyone trying to explore the brooklyn like neighborhoods in the northern neighborhood city can also use this data to explore the city or explore the popular food business oportunities in the city of Toronto."
   ]
  },
  {
   "cell_type": "markdown",
   "metadata": {},
   "source": [
    "## Data\n",
    "To solve this problem, we will first download the New York and Toronto Neighborhood datasets. We will fetch the New york city data from IBM cloud. The New York data contains data for its 5 boroughs including Brooklyn. We will filter this data set to only use Brooklyn Borough data. The data will include the latitude and longitudes for the neighborhood.\n",
    "\n",
    "\n",
    "The Toronto city data is not available as easily as New York city data. We will use the Toronto neighborhood data listed on wikipedia page https://en.wikipedia.org/wiki/List_of_postal_codes_of_Canada:_M. We will then use python webscraping libraries and tools to extract the required data from the wikipedia page and format it so that we can use it in our project. After cleaning the data, we will use python Geolocation libraries to add Latitude and Longitude information for each neighborhood. And after we have compiled all the data for Toronto, we will merge it with Brooklyn Neighborhood data and use the merged data set for clusetering and analysis."
   ]
  },
  {
   "cell_type": "markdown",
   "metadata": {},
   "source": [
    "## Download and prepare data"
   ]
  },
  {
   "cell_type": "code",
   "execution_count": 3,
   "metadata": {},
   "outputs": [
    {
     "name": "stdout",
     "output_type": "stream",
     "text": [
      "Libraries imported.\n"
     ]
    }
   ],
   "source": [
    "# Download important libraries\n",
    "import numpy as np\n",
    "import pandas as pd\n",
    "import json\n",
    "#!conda install -c conda-forge geopy --yes # uncomment this line if you haven't completed the Foursquare API lab\n",
    "from geopy.geocoders import Nominatim # convert an address into latitude and longitude values\n",
    "\n",
    "import requests\n",
    "from pandas.io.json import json_normalize\n",
    "import matplotlib.cm as cm\n",
    "import matplotlib.colors as colors\n",
    "\n",
    "from sklearn.cluster import KMeans\n",
    "#!conda install -c conda-forge folium=0.5.0 --yes # uncomment this line if you haven't completed the Foursquare API lab\n",
    "import folium # map rendering library\n",
    "\n",
    "#! conda install beautifulsoup4\n",
    "from bs4 import BeautifulSoup\n",
    "from urllib.request import urlopen\n",
    "import re\n",
    "\n",
    "print('Libraries imported.')"
   ]
  },
  {
   "cell_type": "markdown",
   "metadata": {},
   "source": [
    "#### Download New York city data and filter Brooklyn data"
   ]
  },
  {
   "cell_type": "code",
   "execution_count": 7,
   "metadata": {},
   "outputs": [
    {
     "name": "stdout",
     "output_type": "stream",
     "text": [
      "Data downloaded!\n"
     ]
    }
   ],
   "source": [
    "#!conda install -c conda-forge wget --yes\n",
    "!wget -q -O 'Desktop/data-analysis/Coursera_Capstone_ML/newyork_data.json' https://cf-courses-data.s3.us.cloud-object-storage.appdomain.cloud/IBMDeveloperSkillsNetwork-DS0701EN-SkillsNetwork/labs/newyork_data.json\n",
    "print('Data downloaded!')"
   ]
  },
  {
   "cell_type": "markdown",
   "metadata": {},
   "source": [
    "#### Function to scrape and parse Toronto data"
   ]
  },
  {
   "cell_type": "code",
   "execution_count": 2,
   "metadata": {},
   "outputs": [],
   "source": [
    "def parse_data():\n",
    "\tpage = urlopen(\"https://en.wikipedia.org/wiki/List_of_postal_codes_of_Canada:_M\")\n",
    "\thtml = page.read().decode(\"utf-8\")\n",
    "\tsoup = BeautifulSoup(html, 'html.parser')\n",
    "\ttable_data = soup.find(\"table\").findAll(\"td\")\n",
    "\tparsed_data = []\n",
    "\tfor data in table_data:\n",
    "\t\tnew_data = []\n",
    "\t\tpostal_code = data.find(\"b\").text\n",
    "\t\tborough_data = data.find(\"span\")\n",
    "\t\tif postal_code and borough_data.text != \"Not assigned\":\n",
    "\t\t\tborough_data_vals = re.split('[(]',borough_data.text)\n",
    "\t\t\tborough = borough_data_vals[0]\n",
    "\t\t\tneighborhoods = borough_data_vals[1].replace(\" / \", \",\").replace(\")\", \"\")\n",
    "\t\t\tnew_data.append(postal_code)\n",
    "\t\t\tnew_data.append(borough)\n",
    "\t\t\tnew_data.append(neighborhoods)\n",
    "\t\t\tparsed_data.append(new_data)\n",
    "\treturn parsed_data"
   ]
  },
  {
   "cell_type": "code",
   "execution_count": null,
   "metadata": {},
   "outputs": [],
   "source": []
  }
 ],
 "metadata": {
  "kernelspec": {
   "display_name": "Python 3",
   "language": "python",
   "name": "python3"
  },
  "language_info": {
   "codemirror_mode": {
    "name": "ipython",
    "version": 3
   },
   "file_extension": ".py",
   "mimetype": "text/x-python",
   "name": "python",
   "nbconvert_exporter": "python",
   "pygments_lexer": "ipython3",
   "version": "3.8.5"
  }
 },
 "nbformat": 4,
 "nbformat_minor": 4
}
